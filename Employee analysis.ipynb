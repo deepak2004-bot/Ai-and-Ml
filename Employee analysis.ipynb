{
 "cells": [
  {
   "cell_type": "code",
   "execution_count": 15,
   "id": "9048f416-64dc-40c3-935b-8a316290747c",
   "metadata": {},
   "outputs": [],
   "source": [
    "import numpy as np"
   ]
  },
  {
   "cell_type": "code",
   "execution_count": 16,
   "id": "8385641b-b681-45fd-92da-8cc052662b24",
   "metadata": {},
   "outputs": [],
   "source": [
    "import pandas as pd"
   ]
  },
  {
   "cell_type": "code",
   "execution_count": 17,
   "id": "4d6ace2f-09ce-46b7-b8f7-2ca87f41b67e",
   "metadata": {},
   "outputs": [],
   "source": [
    "np.random.seed(42)\n"
   ]
  },
  {
   "cell_type": "code",
   "execution_count": 96,
   "id": "9d52b0e1-61c1-405d-a04d-3b22eeab21fe",
   "metadata": {},
   "outputs": [],
   "source": [
    "employee_ids=[f\"Emp_{str(i).zfill(3)}\"for i in range(1,31)]\n",
    "dates = pd.date_range(\"2025-07-01\",periods=30,freq=\"D\")"
   ]
  },
  {
   "cell_type": "code",
   "execution_count": 132,
   "id": "8ed44940-f21a-4811-82dd-a807ed2cd195",
   "metadata": {},
   "outputs": [
    {
     "data": {
      "text/plain": [
       "['Emp_001',\n",
       " 'Emp_002',\n",
       " 'Emp_003',\n",
       " 'Emp_004',\n",
       " 'Emp_005',\n",
       " 'Emp_006',\n",
       " 'Emp_007',\n",
       " 'Emp_008',\n",
       " 'Emp_009',\n",
       " 'Emp_010',\n",
       " 'Emp_011',\n",
       " 'Emp_012',\n",
       " 'Emp_013',\n",
       " 'Emp_014',\n",
       " 'Emp_015',\n",
       " 'Emp_016',\n",
       " 'Emp_017',\n",
       " 'Emp_018',\n",
       " 'Emp_019',\n",
       " 'Emp_020',\n",
       " 'Emp_021',\n",
       " 'Emp_022',\n",
       " 'Emp_023',\n",
       " 'Emp_024',\n",
       " 'Emp_025',\n",
       " 'Emp_026',\n",
       " 'Emp_027',\n",
       " 'Emp_028',\n",
       " 'Emp_029',\n",
       " 'Emp_030']"
      ]
     },
     "execution_count": 132,
     "metadata": {},
     "output_type": "execute_result"
    }
   ],
   "source": [
    "employee_ids"
   ]
  },
  {
   "cell_type": "code",
   "execution_count": 133,
   "id": "b74cdbac-9308-4d05-adbf-678495bdb097",
   "metadata": {},
   "outputs": [],
   "source": [
    "data={\n",
    "    \"Data\":np.tile(dates,len(employee_ids)),\n",
    "    \"Employee_ID\":np.repeat(employee_ids,len(dates)),\n",
    "    \"Working_Hours\":np.random.uniform(4,10,size=len(dates)*len(employee_ids)).round(2)\n",
    "}"
   ]
  },
  {
   "cell_type": "code",
   "execution_count": 134,
   "id": "df89bbef-c607-412c-90ab-a95b711fa0ad",
   "metadata": {},
   "outputs": [],
   "source": [
    "df=pd.DataFrame(data)"
   ]
  },
  {
   "cell_type": "code",
   "execution_count": 135,
   "id": "2abf645c-7a6a-4f70-ab2d-64e4414d3da9",
   "metadata": {},
   "outputs": [],
   "source": [
    "df.to_csv(\"employee_working_hours.csv\",index=False)"
   ]
  },
  {
   "cell_type": "code",
   "execution_count": 136,
   "id": "a4b3db33-ccdc-4e95-ad6e-2b2f5ec11d91",
   "metadata": {},
   "outputs": [],
   "source": [
    "\n",
    "df_csv=pd.read_csv(\"employee_working_hours.csv\")\n"
   ]
  },
  {
   "cell_type": "code",
   "execution_count": 137,
   "id": "b96c0978-2b55-459f-b95e-33ac7d940206",
   "metadata": {},
   "outputs": [
    {
     "name": "stdout",
     "output_type": "stream",
     "text": [
      "         Data Employee_ID  Working_Hours\n",
      "0  2025-07-01     Emp_001           4.85\n",
      "1  2025-07-02     Emp_001           7.43\n",
      "2  2025-07-03     Emp_001           5.11\n",
      "3  2025-07-04     Emp_001           5.67\n",
      "4  2025-07-05     Emp_001           5.31\n",
      "       Working_Hours\n",
      "count     900.000000\n",
      "mean        6.912289\n",
      "std         1.718295\n",
      "min         4.000000\n",
      "25%         5.407500\n",
      "50%         6.865000\n",
      "75%         8.370000\n",
      "max        10.000000\n",
      "30\n"
     ]
    }
   ],
   "source": [
    "print(df_csv.head())\n",
    "print(df_csv.describe())\n",
    "print(df_csv[\"Employee_ID\"].nunique())"
   ]
  },
  {
   "cell_type": "code",
   "execution_count": 148,
   "id": "af2ff4fd-16d6-48a2-8591-42e1ca7922d6",
   "metadata": {},
   "outputs": [],
   "source": [
    "total_hours=df_csv.groupby(\"Employee_ID\")[\"Working_Hours\"].sum().sort_values(ascending=False)"
   ]
  },
  {
   "cell_type": "code",
   "execution_count": 149,
   "id": "7f84a3d7-664e-455d-b8fa-5334d87b8274",
   "metadata": {},
   "outputs": [],
   "source": [
    "avg_daily=df_csv.groupby(\"Employee_ID\")[\"Working_Hours\"].mean()"
   ]
  },
  {
   "cell_type": "code",
   "execution_count": 150,
   "id": "8b5fe964-d4d6-490f-85b9-9672a68a7516",
   "metadata": {},
   "outputs": [
    {
     "data": {
      "text/plain": [
       "Employee_ID\n",
       "Emp_001    6.817667\n",
       "Emp_002    6.807667\n",
       "Emp_003    6.369333\n",
       "Emp_004    7.319000\n",
       "Emp_005    7.031000\n",
       "Emp_006    7.179667\n",
       "Emp_007    6.688000\n",
       "Emp_008    7.056333\n",
       "Emp_009    6.776667\n",
       "Emp_010    7.397333\n",
       "Emp_011    7.143000\n",
       "Emp_012    6.480000\n",
       "Emp_013    6.875667\n",
       "Emp_014    6.439333\n",
       "Emp_015    7.300000\n",
       "Emp_016    7.362667\n",
       "Emp_017    6.618333\n",
       "Emp_018    6.965000\n",
       "Emp_019    6.525333\n",
       "Emp_020    7.201000\n",
       "Emp_021    6.801333\n",
       "Emp_022    6.918000\n",
       "Emp_023    6.989333\n",
       "Emp_024    7.030000\n",
       "Emp_025    7.252667\n",
       "Emp_026    6.624667\n",
       "Emp_027    6.537000\n",
       "Emp_028    6.597000\n",
       "Emp_029    7.274000\n",
       "Emp_030    6.991667\n",
       "Name: Working_Hours, dtype: float64"
      ]
     },
     "execution_count": 150,
     "metadata": {},
     "output_type": "execute_result"
    }
   ],
   "source": [
    "avg_daily"
   ]
  },
  {
   "cell_type": "code",
   "execution_count": 140,
   "id": "4fe39a44-99ce-4c03-bb5c-8d6f487fc9c7",
   "metadata": {},
   "outputs": [
    {
     "name": "stdout",
     "output_type": "stream",
     "text": [
      "         Data Employee_ID  Working_Hours  Low_Hour_Flag  High_Hour_Flag\n",
      "0  2025-07-01     Emp_001           4.85           True            True\n",
      "1  2025-07-02     Emp_001           7.43          False            True\n",
      "2  2025-07-03     Emp_001           5.11          False            True\n",
      "3  2025-07-04     Emp_001           5.67          False            True\n",
      "4  2025-07-05     Emp_001           5.31          False            True\n"
     ]
    }
   ],
   "source": [
    "threshold_low=5\n",
    "threshold_high=9\n",
    "df_csv[\"Low_Hour_Flag\"]=df_csv[\"Working_Hours\"]<threshold_low\n",
    "df_csv[\"High_Hour_Flag\"]=df_csv[\"Working_Hours\"]<threshold_high\n",
    "print(df_csv[df_csv[\"Low_Hour_Flag\"] | df_csv[\"High_Hour_Flag\"]].head())"
   ]
  },
  {
   "cell_type": "code",
   "execution_count": 141,
   "id": "f700ae96-8d44-4285-8ddd-a3bc2ca859a3",
   "metadata": {},
   "outputs": [],
   "source": [
    "import matplotlib.pyplot as plt\n",
    "import seaborn as sns"
   ]
  },
  {
   "cell_type": "code",
   "execution_count": 142,
   "id": "f11ef54d-7ccb-458e-9fbd-dce7ee37bbbd",
   "metadata": {},
   "outputs": [
    {
     "data": {
      "image/png": "[encoded data removed]",
      "text/plain": [
       "<Figure size 1000x500 with 1 Axes>"
      ]
     },
     "metadata": {},
     "output_type": "display_data"
    }
   ],
   "source": [
    "top10=total_hours.head(10)\n",
    "plt.figure(figsize=(10,5))\n",
    "sns.barplot(x=top10.index,y=top10.values)\n",
    "plt.xticks(rotation=45)\n",
    "plt.title(\"Top 10 Employee by Total Working Hours\")\n",
    "plt.tight_layout()\n",
    "plt.show()\n"
   ]
  },
  {
   "cell_type": "code",
   "execution_count": 156,
   "id": "58d70d2d-4cfc-4935-af5f-b329c72725c3",
   "metadata": {},
   "outputs": [],
   "source": [
    "Grades=df.loc[(df[\"Employee_ID\"]==\"EMP_010\")]"
   ]
  },
  {
   "cell_type": "code",
   "execution_count": 157,
   "id": "88eae9d2-4130-492b-b36b-19e99acdf1a2",
   "metadata": {},
   "outputs": [
    {
     "data": {
      "text/html": [
       "<div>\n",
       "<style scoped>\n",
       "    .dataframe tbody tr th:only-of-type {\n",
       "        vertical-align: middle;\n",
       "    }\n",
       "\n",
       "    .dataframe tbody tr th {\n",
       "        vertical-align: top;\n",
       "    }\n",
       "\n",
       "    .dataframe thead th {\n",
       "        text-align: right;\n",
       "    }\n",
       "</style>\n",
       "<table border=\"1\" class=\"dataframe\">\n",
       "  <thead>\n",
       "    <tr style=\"text-align: right;\">\n",
       "      <th></th>\n",
       "      <th>Data</th>\n",
       "      <th>Employee_ID</th>\n",
       "      <th>Working_Hours</th>\n",
       "    </tr>\n",
       "  </thead>\n",
       "  <tbody>\n",
       "  </tbody>\n",
       "</table>\n",
       "</div>"
      ],
      "text/plain": [
       "Empty DataFrame\n",
       "Columns: [Data, Employee_ID, Working_Hours]\n",
       "Index: []"
      ]
     },
     "execution_count": 157,
     "metadata": {},
     "output_type": "execute_result"
    }
   ],
   "source": [
    "Grades.head()"
   ]
  },
  {
   "cell_type": "code",
   "execution_count": null,
   "id": "a66b0d43-7350-4961-b496-9d33b7c1cc34",
   "metadata": {},
   "outputs": [],
   "source": []
  }
 ],
 "metadata": {
  "kernelspec": {
   "display_name": "Python 3 (ipykernel)",
   "language": "python",
   "name": "python3"
  },
  "language_info": {
   "codemirror_mode": {
    "name": "ipython",
    "version": 3
   },
   "file_extension": ".py",
   "mimetype": "text/x-python",
   "name": "python",
   "nbconvert_exporter": "python",
   "pygments_lexer": "ipython3",
   "version": "3.13.5"
  }
 },
 "nbformat": 4,
 "nbformat_minor": 5
}
